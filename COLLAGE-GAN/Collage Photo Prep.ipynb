{
 "cells": [
  {
   "cell_type": "code",
   "execution_count": 1,
   "id": "19017c96",
   "metadata": {},
   "outputs": [],
   "source": [
    "import os\n",
    "import cv2\n",
    "import matplotlib.pyplot as plt\n",
    "import pandas as pd\n",
    "import numpy as np"
   ]
  },
  {
   "cell_type": "code",
   "execution_count": 2,
   "id": "2bd717b8",
   "metadata": {},
   "outputs": [
    {
     "name": "stdout",
     "output_type": "stream",
     "text": [
      "1000\n",
      "2000\n",
      "3000\n",
      "4000\n",
      "5000\n",
      "6000\n",
      "7000\n",
      "8000\n",
      "9000\n",
      "10000\n",
      "11000\n",
      "12000\n",
      "13000\n",
      "14000\n",
      "15000\n",
      "16000\n",
      "17000\n",
      "18000\n",
      "19000\n",
      "20000\n"
     ]
    }
   ],
   "source": [
    "folder_path = r'C:\\Users\\Aaron\\instagram artist\\Collage Art'\n",
    "result = []\n",
    "i=0\n",
    "img_dim = 100\n",
    "with open(r'C:\\Users\\Aaron\\instagram artist\\collage_art.csv','w') as file:\n",
    "    for img in os.listdir(folder_path):\n",
    "        image_path = os.path.join(folder_path,img)\n",
    "        arr = cv2.imread(image_path,cv2.COLOR_BGR2RGB)\n",
    "        arr = cv2.resize(arr,(img_dim,img_dim))\n",
    "        arr = np.append(arr,img)\n",
    "        file.write(','.join(arr)+'\\n')\n",
    "        i+=1\n",
    "        if i%1000==0.0000:\n",
    "            print(i)\n",
    "file.close()"
   ]
  },
  {
   "cell_type": "code",
   "execution_count": 3,
   "id": "87613c92",
   "metadata": {},
   "outputs": [],
   "source": [
    "import boto3\n",
    "\n",
    "sess = boto3.Session(region_name='us-east-2')"
   ]
  },
  {
   "cell_type": "code",
   "execution_count": 5,
   "id": "c0089083",
   "metadata": {},
   "outputs": [],
   "source": [
    "client = sess.client('s3')\n",
    "try: #in case the bucket doesn't exist\n",
    "    client.create_bucket(Bucket='tellisa-collage-gan',CreateBucketConfiguration={\n",
    "            'LocationConstraint': 'us-east-2'\n",
    "        })\n",
    "except:\n",
    "    pass "
   ]
  },
  {
   "cell_type": "code",
   "execution_count": 6,
   "id": "42a9b05e",
   "metadata": {},
   "outputs": [],
   "source": [
    "file = r'C:\\Users\\Aaron\\instagram artist\\collage_art.csv'\n",
    "client.upload_file(file, \"tellisa-collage-gan\", \"collage_imgs\")"
   ]
  },
  {
   "cell_type": "code",
   "execution_count": null,
   "id": "fce4741a",
   "metadata": {},
   "outputs": [],
   "source": []
  }
 ],
 "metadata": {
  "kernelspec": {
   "display_name": "Python 3 (ipykernel)",
   "language": "python",
   "name": "python3"
  },
  "language_info": {
   "codemirror_mode": {
    "name": "ipython",
    "version": 3
   },
   "file_extension": ".py",
   "mimetype": "text/x-python",
   "name": "python",
   "nbconvert_exporter": "python",
   "pygments_lexer": "ipython3",
   "version": "3.9.13"
  }
 },
 "nbformat": 4,
 "nbformat_minor": 5
}
