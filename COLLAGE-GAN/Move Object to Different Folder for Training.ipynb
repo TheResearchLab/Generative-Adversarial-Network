{
 "cells": [
  {
   "cell_type": "code",
   "execution_count": 6,
   "id": "9eeea238",
   "metadata": {},
   "outputs": [],
   "source": [
    "import pandas as pd\n",
    "from boto3 import Session\n",
    "import boto3\n",
    "\n",
    "session = Session()\n",
    "credentials = session.get_credentials()\n",
    "\n",
    "current_credentials = credentials.get_frozen_credentials()\n",
    "\n",
    "client = boto3.client(\n",
    "    's3',\n",
    "    aws_access_key_id = current_credentials.access_key,\n",
    "    aws_secret_access_key = current_credentials.secret_key,\n",
    "    aws_session_token=current_credentials.token)"
   ]
  },
  {
   "cell_type": "code",
   "execution_count": 4,
   "id": "146231a3",
   "metadata": {},
   "outputs": [],
   "source": [
    "# Get training data that needs to move\n",
    "trainImgKeys = pd.read_csv('collage_gan_training_data.csv',index_col=0)"
   ]
  },
  {
   "cell_type": "code",
   "execution_count": 12,
   "id": "1110ef33",
   "metadata": {},
   "outputs": [],
   "source": [
    "source_bucket = 'tellisa-collage-gan'\n",
    "destination_bucket = 'tellisa-collage-gan'"
   ]
  },
  {
   "cell_type": "code",
   "execution_count": 13,
   "id": "c7f372ce",
   "metadata": {},
   "outputs": [],
   "source": [
    "source_key=trainImgKeys.iloc[0]['Key']"
   ]
  },
  {
   "cell_type": "code",
   "execution_count": 26,
   "id": "a6d3d12b",
   "metadata": {},
   "outputs": [
    {
     "data": {
      "text/plain": [
       "{'ResponseMetadata': {'RequestId': 'TX6FAJCWXWNPVWP7',\n",
       "  'HostId': 'VWnntCPdXutDCEE47BSSpBCuP9jrJmhoMmwPSQUmJ+9QVAcBnvwESfDPGFFkGiO0GpSJeaDqAvg=',\n",
       "  'HTTPStatusCode': 200,\n",
       "  'HTTPHeaders': {'x-amz-id-2': 'VWnntCPdXutDCEE47BSSpBCuP9jrJmhoMmwPSQUmJ+9QVAcBnvwESfDPGFFkGiO0GpSJeaDqAvg=',\n",
       "   'x-amz-request-id': 'TX6FAJCWXWNPVWP7',\n",
       "   'date': 'Sun, 22 Jan 2023 23:13:33 GMT',\n",
       "   'x-amz-server-side-encryption': 'AES256',\n",
       "   'content-type': 'application/xml',\n",
       "   'server': 'AmazonS3',\n",
       "   'content-length': '234'},\n",
       "  'RetryAttempts': 0},\n",
       " 'ServerSideEncryption': 'AES256',\n",
       " 'CopyObjectResult': {'ETag': '\"77fb71617b0a87bb0135ee115e421335\"',\n",
       "  'LastModified': datetime.datetime(2023, 1, 22, 23, 13, 33, tzinfo=tzlocal())}}"
      ]
     },
     "execution_count": 26,
     "metadata": {},
     "output_type": "execute_result"
    }
   ],
   "source": [
    "#Testing the copy object method\n",
    "client.copy_object(Bucket=destination_bucket,CopySource=source_bucket+'/'+source_key,Key='collage_gan_subset'+source_key[11:])"
   ]
  },
  {
   "cell_type": "code",
   "execution_count": 27,
   "id": "96b585a0",
   "metadata": {},
   "outputs": [],
   "source": [
    "#Move files to new location for training\n",
    "for i in range(len(trainImgKeys)):\n",
    "    source_key=trainImgKeys.iloc[i]['Key']\n",
    "    client.copy_object(Bucket=destination_bucket,CopySource=source_bucket+'/'+source_key,Key='collage_gan_subset'+source_key[11:])"
   ]
  },
  {
   "cell_type": "code",
   "execution_count": null,
   "id": "9e139be8",
   "metadata": {},
   "outputs": [],
   "source": []
  }
 ],
 "metadata": {
  "kernelspec": {
   "display_name": "conda_amazonei_tensorflow2_p36",
   "language": "python",
   "name": "conda_amazonei_tensorflow2_p36"
  },
  "language_info": {
   "codemirror_mode": {
    "name": "ipython",
    "version": 3
   },
   "file_extension": ".py",
   "mimetype": "text/x-python",
   "name": "python",
   "nbconvert_exporter": "python",
   "pygments_lexer": "ipython3",
   "version": "3.6.13"
  }
 },
 "nbformat": 4,
 "nbformat_minor": 5
}
