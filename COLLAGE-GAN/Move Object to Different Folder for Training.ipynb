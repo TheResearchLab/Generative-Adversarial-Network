{
 "cells": [
  {
   "cell_type": "code",
   "execution_count": 49,
   "id": "9eeea238",
   "metadata": {},
   "outputs": [
    {
     "name": "stderr",
     "output_type": "stream",
     "text": [
      "/home/ec2-user/anaconda3/envs/amazonei_tensorflow2_p36/lib/python3.6/site-packages/boto3/compat.py:88: PythonDeprecationWarning: Boto3 will no longer support Python 3.6 starting May 30, 2022. To continue receiving service updates, bug fixes, and security updates please upgrade to Python 3.7 or later. More information can be found here: https://aws.amazon.com/blogs/developer/python-support-policy-updates-for-aws-sdks-and-tools/\n",
      "  warnings.warn(warning, PythonDeprecationWarning)\n"
     ]
    }
   ],
   "source": [
    "import pandas as pd\n",
    "from boto3 import Session\n",
    "import boto3\n",
    "\n",
    "session = Session()\n",
    "credentials = session.get_credentials()\n",
    "\n",
    "current_credentials = credentials.get_frozen_credentials()\n",
    "\n",
    "client = boto3.client(\n",
    "    's3',\n",
    "    aws_access_key_id = current_credentials.access_key,\n",
    "    aws_secret_access_key = current_credentials.secret_key,\n",
    "    aws_session_token=current_credentials.token)"
   ]
  },
  {
   "cell_type": "code",
   "execution_count": 4,
   "id": "146231a3",
   "metadata": {},
   "outputs": [],
   "source": [
    "# Get training data that needs to move\n",
    "trainImgKeys = pd.read_csv('collage_gan_training_data.csv',index_col=0)"
   ]
  },
  {
   "cell_type": "code",
   "execution_count": 3,
   "id": "1110ef33",
   "metadata": {},
   "outputs": [],
   "source": [
    "source_bucket = 'tellisa-collage-gan'\n",
    "destination_bucket = 'tellisa-collage-gan'"
   ]
  },
  {
   "cell_type": "code",
   "execution_count": 13,
   "id": "c7f372ce",
   "metadata": {},
   "outputs": [],
   "source": [
    "source_key=trainImgKeys.iloc[0]['Key']"
   ]
  },
  {
   "cell_type": "code",
   "execution_count": 26,
   "id": "a6d3d12b",
   "metadata": {},
   "outputs": [
    {
     "data": {
      "text/plain": [
       "{'ResponseMetadata': {'RequestId': 'TX6FAJCWXWNPVWP7',\n",
       "  'HostId': 'VWnntCPdXutDCEE47BSSpBCuP9jrJmhoMmwPSQUmJ+9QVAcBnvwESfDPGFFkGiO0GpSJeaDqAvg=',\n",
       "  'HTTPStatusCode': 200,\n",
       "  'HTTPHeaders': {'x-amz-id-2': 'VWnntCPdXutDCEE47BSSpBCuP9jrJmhoMmwPSQUmJ+9QVAcBnvwESfDPGFFkGiO0GpSJeaDqAvg=',\n",
       "   'x-amz-request-id': 'TX6FAJCWXWNPVWP7',\n",
       "   'date': 'Sun, 22 Jan 2023 23:13:33 GMT',\n",
       "   'x-amz-server-side-encryption': 'AES256',\n",
       "   'content-type': 'application/xml',\n",
       "   'server': 'AmazonS3',\n",
       "   'content-length': '234'},\n",
       "  'RetryAttempts': 0},\n",
       " 'ServerSideEncryption': 'AES256',\n",
       " 'CopyObjectResult': {'ETag': '\"77fb71617b0a87bb0135ee115e421335\"',\n",
       "  'LastModified': datetime.datetime(2023, 1, 22, 23, 13, 33, tzinfo=tzlocal())}}"
      ]
     },
     "execution_count": 26,
     "metadata": {},
     "output_type": "execute_result"
    }
   ],
   "source": [
    "#Testing the copy object method\n",
    "client.copy_object(Bucket=destination_bucket,CopySource=source_bucket+'/'+source_key,Key='collage_gan_subset'+source_key[11:])"
   ]
  },
  {
   "cell_type": "code",
   "execution_count": 27,
   "id": "96b585a0",
   "metadata": {},
   "outputs": [],
   "source": [
    "#Move files to new location for training\n",
    "for i in range(len(trainImgKeys)):\n",
    "    source_key=trainImgKeys.iloc[i]['Key']\n",
    "    client.copy_object(Bucket=destination_bucket,CopySource=source_bucket+'/'+source_key,Key='collage_gan_subset'+source_key[11:])"
   ]
  },
  {
   "cell_type": "code",
   "execution_count": null,
   "id": "9e139be8",
   "metadata": {},
   "outputs": [],
   "source": []
  },
  {
   "cell_type": "code",
   "execution_count": 2,
   "id": "f23f0554",
   "metadata": {},
   "outputs": [],
   "source": [
    "#Convert Data in Structured CSV\n",
    "def get_image(img_key):\n",
    "    bucket_name = 'tellisa-collage-gan'\n",
    "    img_inst = client.get_object(Bucket=bucket_name,Key=img_key)\n",
    "    return img_inst['Body'].read()"
   ]
  },
  {
   "cell_type": "code",
   "execution_count": 4,
   "id": "ad911a3e",
   "metadata": {},
   "outputs": [],
   "source": [
    "# Reused code from Image Embed script to get keys\n",
    "bucket_name = 'tellisa-collage-gan'\n",
    "prefix = 'collage_gan_subset/train/'\n",
    "\n",
    "paginator = client.get_paginator('list_objects_v2')\n",
    "pages = paginator.paginate(Bucket=bucket_name,Prefix=prefix) \n",
    "\n",
    "objKeyFrame = pd.DataFrame()\n",
    "for page in pages:\n",
    "    objKeyFrame = pd.concat([objKeyFrame,pd.DataFrame(page['Contents'])],ignore_index=True )"
   ]
  },
  {
   "cell_type": "code",
   "execution_count": 6,
   "id": "f41a12a6",
   "metadata": {},
   "outputs": [
    {
     "data": {
      "text/html": [
       "<div>\n",
       "<style scoped>\n",
       "    .dataframe tbody tr th:only-of-type {\n",
       "        vertical-align: middle;\n",
       "    }\n",
       "\n",
       "    .dataframe tbody tr th {\n",
       "        vertical-align: top;\n",
       "    }\n",
       "\n",
       "    .dataframe thead th {\n",
       "        text-align: right;\n",
       "    }\n",
       "</style>\n",
       "<table border=\"1\" class=\"dataframe\">\n",
       "  <thead>\n",
       "    <tr style=\"text-align: right;\">\n",
       "      <th></th>\n",
       "      <th>Key</th>\n",
       "      <th>LastModified</th>\n",
       "      <th>ETag</th>\n",
       "      <th>Size</th>\n",
       "      <th>StorageClass</th>\n",
       "    </tr>\n",
       "  </thead>\n",
       "  <tbody>\n",
       "    <tr>\n",
       "      <th>1</th>\n",
       "      <td>collage_gan_subset/train/_.lunatico.__pic#0.jpg</td>\n",
       "      <td>2023-01-22 23:16:17+00:00</td>\n",
       "      <td>\"77fb71617b0a87bb0135ee115e421335\"</td>\n",
       "      <td>50221</td>\n",
       "      <td>STANDARD</td>\n",
       "    </tr>\n",
       "    <tr>\n",
       "      <th>2</th>\n",
       "      <td>collage_gan_subset/train/_.lunatico.__pic#107.jpg</td>\n",
       "      <td>2023-01-22 23:16:19+00:00</td>\n",
       "      <td>\"af9172b5acd4b72366dd88b17bad1174\"</td>\n",
       "      <td>41115</td>\n",
       "      <td>STANDARD</td>\n",
       "    </tr>\n",
       "    <tr>\n",
       "      <th>3</th>\n",
       "      <td>collage_gan_subset/train/_.lunatico.__pic#108.jpg</td>\n",
       "      <td>2023-01-22 23:22:19+00:00</td>\n",
       "      <td>\"c6b0eb4cd3806a8fb5b068682d8984fa\"</td>\n",
       "      <td>76019</td>\n",
       "      <td>STANDARD</td>\n",
       "    </tr>\n",
       "    <tr>\n",
       "      <th>4</th>\n",
       "      <td>collage_gan_subset/train/_.lunatico.__pic#110.jpg</td>\n",
       "      <td>2023-01-22 23:17:49+00:00</td>\n",
       "      <td>\"7366eb5e717708677e8da67786bd2488\"</td>\n",
       "      <td>88006</td>\n",
       "      <td>STANDARD</td>\n",
       "    </tr>\n",
       "    <tr>\n",
       "      <th>5</th>\n",
       "      <td>collage_gan_subset/train/_.lunatico.__pic#117.jpg</td>\n",
       "      <td>2023-01-22 23:16:58+00:00</td>\n",
       "      <td>\"7cc79aed90fd8c81d36cfd4ab69c4ea1\"</td>\n",
       "      <td>38037</td>\n",
       "      <td>STANDARD</td>\n",
       "    </tr>\n",
       "    <tr>\n",
       "      <th>...</th>\n",
       "      <td>...</td>\n",
       "      <td>...</td>\n",
       "      <td>...</td>\n",
       "      <td>...</td>\n",
       "      <td>...</td>\n",
       "    </tr>\n",
       "    <tr>\n",
       "      <th>4996</th>\n",
       "      <td>collage_gan_subset/train/vertigo.artography_pi...</td>\n",
       "      <td>2023-01-22 23:23:44+00:00</td>\n",
       "      <td>\"67f18f8e96c09ff50418e0b748e22ef8\"</td>\n",
       "      <td>25987</td>\n",
       "      <td>STANDARD</td>\n",
       "    </tr>\n",
       "    <tr>\n",
       "      <th>4997</th>\n",
       "      <td>collage_gan_subset/train/vertigo.artography_pi...</td>\n",
       "      <td>2023-01-22 23:18:20+00:00</td>\n",
       "      <td>\"75be32e7dbf97defa0525e1517b39de7\"</td>\n",
       "      <td>54246</td>\n",
       "      <td>STANDARD</td>\n",
       "    </tr>\n",
       "    <tr>\n",
       "      <th>4998</th>\n",
       "      <td>collage_gan_subset/train/vertigo.artography_pi...</td>\n",
       "      <td>2023-01-22 23:18:10+00:00</td>\n",
       "      <td>\"e1a729ee36c6d7888683c1463aba5136\"</td>\n",
       "      <td>47507</td>\n",
       "      <td>STANDARD</td>\n",
       "    </tr>\n",
       "    <tr>\n",
       "      <th>4999</th>\n",
       "      <td>collage_gan_subset/train/vertigo.artography_pi...</td>\n",
       "      <td>2023-01-22 23:18:08+00:00</td>\n",
       "      <td>\"2eb47a811d478ff480c83bc43294e681\"</td>\n",
       "      <td>41046</td>\n",
       "      <td>STANDARD</td>\n",
       "    </tr>\n",
       "    <tr>\n",
       "      <th>5000</th>\n",
       "      <td>collage_gan_subset/train/vertigo.artography_pi...</td>\n",
       "      <td>2023-01-22 23:18:09+00:00</td>\n",
       "      <td>\"98eae649f825b188b0f09372d3820947\"</td>\n",
       "      <td>42094</td>\n",
       "      <td>STANDARD</td>\n",
       "    </tr>\n",
       "  </tbody>\n",
       "</table>\n",
       "<p>5000 rows × 5 columns</p>\n",
       "</div>"
      ],
      "text/plain": [
       "                                                    Key  \\\n",
       "1       collage_gan_subset/train/_.lunatico.__pic#0.jpg   \n",
       "2     collage_gan_subset/train/_.lunatico.__pic#107.jpg   \n",
       "3     collage_gan_subset/train/_.lunatico.__pic#108.jpg   \n",
       "4     collage_gan_subset/train/_.lunatico.__pic#110.jpg   \n",
       "5     collage_gan_subset/train/_.lunatico.__pic#117.jpg   \n",
       "...                                                 ...   \n",
       "4996  collage_gan_subset/train/vertigo.artography_pi...   \n",
       "4997  collage_gan_subset/train/vertigo.artography_pi...   \n",
       "4998  collage_gan_subset/train/vertigo.artography_pi...   \n",
       "4999  collage_gan_subset/train/vertigo.artography_pi...   \n",
       "5000  collage_gan_subset/train/vertigo.artography_pi...   \n",
       "\n",
       "                  LastModified                                ETag   Size  \\\n",
       "1    2023-01-22 23:16:17+00:00  \"77fb71617b0a87bb0135ee115e421335\"  50221   \n",
       "2    2023-01-22 23:16:19+00:00  \"af9172b5acd4b72366dd88b17bad1174\"  41115   \n",
       "3    2023-01-22 23:22:19+00:00  \"c6b0eb4cd3806a8fb5b068682d8984fa\"  76019   \n",
       "4    2023-01-22 23:17:49+00:00  \"7366eb5e717708677e8da67786bd2488\"  88006   \n",
       "5    2023-01-22 23:16:58+00:00  \"7cc79aed90fd8c81d36cfd4ab69c4ea1\"  38037   \n",
       "...                        ...                                 ...    ...   \n",
       "4996 2023-01-22 23:23:44+00:00  \"67f18f8e96c09ff50418e0b748e22ef8\"  25987   \n",
       "4997 2023-01-22 23:18:20+00:00  \"75be32e7dbf97defa0525e1517b39de7\"  54246   \n",
       "4998 2023-01-22 23:18:10+00:00  \"e1a729ee36c6d7888683c1463aba5136\"  47507   \n",
       "4999 2023-01-22 23:18:08+00:00  \"2eb47a811d478ff480c83bc43294e681\"  41046   \n",
       "5000 2023-01-22 23:18:09+00:00  \"98eae649f825b188b0f09372d3820947\"  42094   \n",
       "\n",
       "     StorageClass  \n",
       "1        STANDARD  \n",
       "2        STANDARD  \n",
       "3        STANDARD  \n",
       "4        STANDARD  \n",
       "5        STANDARD  \n",
       "...           ...  \n",
       "4996     STANDARD  \n",
       "4997     STANDARD  \n",
       "4998     STANDARD  \n",
       "4999     STANDARD  \n",
       "5000     STANDARD  \n",
       "\n",
       "[5000 rows x 5 columns]"
      ]
     },
     "execution_count": 6,
     "metadata": {},
     "output_type": "execute_result"
    }
   ],
   "source": [
    "from tensorflow.keras.preprocessing import image\n",
    "objKeyFrame = objKeyFrame.iloc[1:]\n",
    "objKeyFrame"
   ]
  },
  {
   "cell_type": "code",
   "execution_count": 11,
   "id": "c70bd9c7",
   "metadata": {},
   "outputs": [],
   "source": [
    "# Handle Images\n",
    "from PIL import Image\n",
    "from io import BytesIO\n",
    "import io\n",
    "import cv2\n",
    "\n",
    "#Handle multithreading\n",
    "import concurrent.futures "
   ]
  },
  {
   "cell_type": "code",
   "execution_count": 50,
   "id": "dd0c27ce",
   "metadata": {},
   "outputs": [],
   "source": [
    "imageMetadata = []\n",
    "with concurrent.futures.ThreadPoolExecutor() as executor:\n",
    "    results = executor.map(get_image,objKeyFrame.Key)\n",
    "    for result in results:\n",
    "        imageMetadata.append(result)\n",
    "        \n",
    "\n",
    "def get_resized_image(img,img_dim):\n",
    "    img = Image.open(io.BytesIO(img))\n",
    "    arr = image.img_to_array(img)\n",
    "    return pd.DataFrame(cv2.resize(arr,(img_dim,img_dim)).reshape(img_dim*img_dim*3)).T/255\n",
    "    \n",
    "imageFrame = pd.DataFrame()\n",
    "for i in imageMetadata:\n",
    "    imageFrame = pd.concat([imageFrame,get_resized_image(i,128)],ignore_index=True)\n",
    "\n"
   ]
  },
  {
   "cell_type": "code",
   "execution_count": 53,
   "id": "7cf37198",
   "metadata": {},
   "outputs": [],
   "source": [
    "imageFrame.to_csv('train_data.csv')"
   ]
  },
  {
   "cell_type": "code",
   "execution_count": 55,
   "id": "e2811165",
   "metadata": {},
   "outputs": [
    {
     "data": {
      "text/plain": [
       "{'ResponseMetadata': {'RequestId': 'A3CGWZ0YG25D9RTN',\n",
       "  'HostId': 'C06JQnlWqIPBPYXyP72Kjka2edkFLU+AID0R9Ie+lP01i+ZQZ20G5la+oX63KUqXh5ywa0DdQS8=',\n",
       "  'HTTPStatusCode': 200,\n",
       "  'HTTPHeaders': {'x-amz-id-2': 'C06JQnlWqIPBPYXyP72Kjka2edkFLU+AID0R9Ie+lP01i+ZQZ20G5la+oX63KUqXh5ywa0DdQS8=',\n",
       "   'x-amz-request-id': 'A3CGWZ0YG25D9RTN',\n",
       "   'date': 'Thu, 26 Jan 2023 00:59:59 GMT',\n",
       "   'x-amz-server-side-encryption': 'AES256',\n",
       "   'etag': '\"401a5cb403d833ef8a2ca6409d68d2e6\"',\n",
       "   'server': 'AmazonS3',\n",
       "   'content-length': '0'},\n",
       "  'RetryAttempts': 0},\n",
       " 'ETag': '\"401a5cb403d833ef8a2ca6409d68d2e6\"',\n",
       " 'ServerSideEncryption': 'AES256'}"
      ]
     },
     "execution_count": 55,
     "metadata": {},
     "output_type": "execute_result"
    }
   ],
   "source": [
    "from io import StringIO\n",
    "\n",
    "csv_buffer = StringIO()\n",
    "imageFrame.to_csv(csv_buffer)\n",
    "client.put_object(Bucket=source_bucket, Key='collage_gan_subset/train_csv/train_data.csv', Body=csv_buffer.getvalue())"
   ]
  },
  {
   "cell_type": "code",
   "execution_count": null,
   "id": "28b0b1bb",
   "metadata": {},
   "outputs": [],
   "source": []
  },
  {
   "cell_type": "code",
   "execution_count": null,
   "id": "137a1678",
   "metadata": {},
   "outputs": [],
   "source": []
  }
 ],
 "metadata": {
  "kernelspec": {
   "display_name": "conda_amazonei_tensorflow2_p36",
   "language": "python",
   "name": "conda_amazonei_tensorflow2_p36"
  },
  "language_info": {
   "codemirror_mode": {
    "name": "ipython",
    "version": 3
   },
   "file_extension": ".py",
   "mimetype": "text/x-python",
   "name": "python",
   "nbconvert_exporter": "python",
   "pygments_lexer": "ipython3",
   "version": "3.6.13"
  }
 },
 "nbformat": 4,
 "nbformat_minor": 5
}
