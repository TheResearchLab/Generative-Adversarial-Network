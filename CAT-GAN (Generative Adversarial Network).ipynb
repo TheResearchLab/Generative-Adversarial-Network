{
 "cells": [
  {
   "cell_type": "markdown",
   "metadata": {},
   "source": [
    "# Intro"
   ]
  },
  {
   "cell_type": "markdown",
   "metadata": {},
   "source": [
    "Generative Adversarial Networks are a Neural Network Structure with the ultimate purpose of generating output indistinguishable from the input data that the model was trained on. The model consists of two models, the generator and the discriminator. A useful analogy which conceptualizes how the model works is the cashier vs counterfeiter. The counterfeiter plays the role of the generator who produces the counterfeit currency and the discriminator is the cashier who tries to identify the real vs fake dollars. As the cashier improves their ability to spot fakes the counterfeiter improves producing the fakes. For the example below, the generator and discriminator of the GAN are built from two Convolutional Neural Networks, the generator produces a (64 x 64) RBG image and the discriminator uses a sigmoid function to output the probability of the image being real.   "
   ]
  },
  {
   "cell_type": "markdown",
   "metadata": {},
   "source": [
    "# Import the necessary packages"
   ]
  },
  {
   "cell_type": "code",
   "execution_count": 1,
   "metadata": {},
   "outputs": [],
   "source": [
    "import warnings\n",
    "\n",
    "warnings.filterwarnings('ignore')\n",
    "\n",
    "import cv2\n",
    "import os\n",
    "import matplotlib.pyplot as plt\n",
    "import keras\n",
    "from keras.models import Sequential\n",
    "from keras.layers import Reshape\n",
    "from keras.layers import Flatten\n",
    "from keras.layers import Conv2D, Dense, Conv2DTranspose\n",
    "from keras.layers import Dropout\n",
    "from keras.layers.advanced_activations import LeakyReLU\n",
    "from tensorflow.keras.optimizers import Adam\n",
    "import numpy as np\n",
    "from platform import python_version"
   ]
  },
  {
   "cell_type": "markdown",
   "metadata": {},
   "source": [
    "# Check Python & Package versions"
   ]
  },
  {
   "cell_type": "code",
   "execution_count": 2,
   "metadata": {},
   "outputs": [
    {
     "name": "stdout",
     "output_type": "stream",
     "text": [
      "Package Versions\n",
      "cv2: 4.5.5\n",
      "keras: 2.6.0\n",
      "numpy: 1.22.4\n",
      "python:3.8.5\n"
     ]
    }
   ],
   "source": [
    "print(\"Package Versions\");\n",
    "print(f\"cv2: {cv2.__version__}\");\n",
    "print(f\"keras: {keras.__version__}\")\n",
    "print(f\"numpy: {np.__version__}\")\n",
    "print(f\"python:{python_version()}\")"
   ]
  },
  {
   "cell_type": "markdown",
   "metadata": {},
   "source": [
    "# Get Data"
   ]
  },
  {
   "cell_type": "markdown",
   "metadata": {},
   "source": [
    "data sourced from Kaggle - (https://www.kaggle.com/datasets/spandan2/cats-faces-64x64-for-generative-models) "
   ]
  },
  {
   "cell_type": "code",
   "execution_count": 3,
   "metadata": {},
   "outputs": [],
   "source": [
    "# Get Cat Faces\n",
    "train_data = []\n",
    "\n",
    "path = r'C:\\Users\\Aaron\\cat faces\\cats\\cats'\n",
    "for img in os.listdir(path):\n",
    "    img_path = os.path.join(path, img)\n",
    "    train = cv2.imread(img_path, cv2.COLOR_BGR2RGB)\n",
    "    train_data.append(train)"
   ]
  },
  {
   "cell_type": "code",
   "execution_count": 4,
   "metadata": {},
   "outputs": [
    {
     "data": {
      "text/plain": [
       "(64, 64, 3)"
      ]
     },
     "execution_count": 4,
     "metadata": {},
     "output_type": "execute_result"
    }
   ],
   "source": [
    "# 64 X 64 image with RGB values for each pixel\n",
    "train_data[0].shape"
   ]
  },
  {
   "cell_type": "code",
   "execution_count": 5,
   "metadata": {},
   "outputs": [
    {
     "data": {
      "text/plain": [
       "array([[[179, 172, 175],\n",
       "        [164, 159, 161],\n",
       "        [174, 170, 176],\n",
       "        ...,\n",
       "        [180, 183, 181],\n",
       "        [219, 224, 223],\n",
       "        [240, 245, 244]],\n",
       "\n",
       "       [[218, 211, 214],\n",
       "        [230, 225, 227],\n",
       "        [186, 182, 187],\n",
       "        ...,\n",
       "        [221, 223, 223],\n",
       "        [213, 218, 217],\n",
       "        [150, 155, 154]],\n",
       "\n",
       "       [[168, 161, 164],\n",
       "        [206, 201, 203],\n",
       "        [196, 192, 197],\n",
       "        ...,\n",
       "        [163, 165, 166],\n",
       "        [123, 127, 128],\n",
       "        [131, 135, 136]],\n",
       "\n",
       "       ...,\n",
       "\n",
       "       [[119, 135, 148],\n",
       "        [113, 129, 142],\n",
       "        [103, 119, 135],\n",
       "        ...,\n",
       "        [ 80,  95, 114],\n",
       "        [ 81,  97, 114],\n",
       "        [ 95, 111, 128]],\n",
       "\n",
       "       [[118, 133, 149],\n",
       "        [111, 126, 142],\n",
       "        [ 99, 115, 131],\n",
       "        ...,\n",
       "        [ 66,  82,  99],\n",
       "        [ 70,  86, 103],\n",
       "        [ 93, 109, 126]],\n",
       "\n",
       "       [[114, 129, 145],\n",
       "        [107, 122, 138],\n",
       "        [ 98, 114, 130],\n",
       "        ...,\n",
       "        [ 54,  70,  87],\n",
       "        [ 72,  88, 105],\n",
       "        [ 90, 106, 123]]], dtype=uint8)"
      ]
     },
     "execution_count": 5,
     "metadata": {},
     "output_type": "execute_result"
    }
   ],
   "source": [
    "# Image in array form\n",
    "train_data[0]"
   ]
  },
  {
   "cell_type": "code",
   "execution_count": 6,
   "metadata": {},
   "outputs": [
    {
     "data": {
      "image/png": "[encoded data removed]",
      "text/plain": [
       "<Figure size 432x288 with 1 Axes>"
      ]
     },
     "metadata": {
      "needs_background": "light"
     },
     "output_type": "display_data"
    }
   ],
   "source": [
    "# Show Cat Face Example\n",
    "plt.imshow(train_data[0],cmap=plt.cm.binary);\n",
    "plt.title('Mr. Whiskers');"
   ]
  },
  {
   "cell_type": "markdown",
   "metadata": {},
   "source": [
    "# Build Model"
   ]
  },
  {
   "cell_type": "code",
   "execution_count": 7,
   "metadata": {},
   "outputs": [],
   "source": [
    "# Model Variables\n",
    "img_width = 64\n",
    "img_height = 64\n",
    "channels = 3\n",
    "img_shape = (img_width, img_height, channels)\n",
    "latent_dim = 100 # Noise which will feed into model\n",
    "adam = Adam(learning_rate=0.0002)"
   ]
  },
  {
   "cell_type": "markdown",
   "metadata": {},
   "source": [
    "The image size variables and model optimizer with learning rate are set above. The generator below is a 2.7 million parameter and 5 layer CNN which takes random noise in the shape of and using the Conv2DTranspose we do a convolution (pixel pattern recognition) while \"upscaling\" the image to transform from noise to a (64x64x3) image."
   ]
  },
  {
   "cell_type": "code",
   "execution_count": 8,
   "metadata": {},
   "outputs": [
    {
     "name": "stdout",
     "output_type": "stream",
     "text": [
      "Model: \"sequential\"\n",
      "_________________________________________________________________\n",
      "Layer (type)                 Output Shape              Param #   \n",
      "=================================================================\n",
      "dense (Dense)                (None, 16384)             1654784   \n",
      "_________________________________________________________________\n",
      "leaky_re_lu (LeakyReLU)      (None, 16384)             0         \n",
      "_________________________________________________________________\n",
      "reshape (Reshape)            (None, 8, 8, 256)         0         \n",
      "_________________________________________________________________\n",
      "conv2d_transpose (Conv2DTran (None, 16, 16, 128)       524416    \n",
      "_________________________________________________________________\n",
      "leaky_re_lu_1 (LeakyReLU)    (None, 16, 16, 128)       0         \n",
      "_________________________________________________________________\n",
      "conv2d_transpose_1 (Conv2DTr (None, 32, 32, 128)       262272    \n",
      "_________________________________________________________________\n",
      "leaky_re_lu_2 (LeakyReLU)    (None, 32, 32, 128)       0         \n",
      "_________________________________________________________________\n",
      "conv2d_transpose_2 (Conv2DTr (None, 64, 64, 128)       262272    \n",
      "_________________________________________________________________\n",
      "leaky_re_lu_3 (LeakyReLU)    (None, 64, 64, 128)       0         \n",
      "_________________________________________________________________\n",
      "conv2d (Conv2D)              (None, 64, 64, 3)         3459      \n",
      "=================================================================\n",
      "Total params: 2,707,203\n",
      "Trainable params: 2,707,203\n",
      "Non-trainable params: 0\n",
      "_________________________________________________________________\n"
     ]
    }
   ],
   "source": [
    "def build_generator():\n",
    "    model = Sequential()\n",
    "    \n",
    "    # Layer 1\n",
    "    model.add(Dense(256 * 8* 8, input_dim=latent_dim))\n",
    "    model.add(LeakyReLU(alpha=0.2))\n",
    "    model.add(Reshape((8,8,256)))\n",
    "    \n",
    "    # Layer 2\n",
    "    model.add(Conv2DTranspose(128, (4,4), strides=(2,2), padding='same'))\n",
    "    model.add(LeakyReLU(alpha=0.2))\n",
    "    \n",
    "    # Layer 3\n",
    "    model.add(Conv2DTranspose(128, (4,4), strides=(2,2), padding='same'))\n",
    "    model.add(LeakyReLU(alpha=0.2))\n",
    "    \n",
    "    # Layer 4\n",
    "    model.add(Conv2DTranspose(128, (4,4), strides=(2,2), padding='same'))\n",
    "    model.add(LeakyReLU(alpha=0.2))\n",
    "    \n",
    "    #Layer 5\n",
    "    model.add(Conv2D(3, (3,3), activation='tanh', padding='same'))\n",
    "  \n",
    "    model.summary()\n",
    "\n",
    "    return model\n",
    "\n",
    "generator = build_generator()"
   ]
  },
  {
   "cell_type": "markdown",
   "metadata": {},
   "source": [
    "The below code builds the discriminator which is a 1.5 million parameter and 5 layer CNN that intakes a (64 x 64 x 3) image and performs convolutions to eventually output a value between 0 and 1 which will represent our classification of if the generated image is real or fake. In addition, notice that the discriminator is being compiled, but not the generator. This is because the generator is trained along with the GAN and the discriminator will train separate from the GAN."
   ]
  },
  {
   "cell_type": "code",
   "execution_count": 9,
   "metadata": {},
   "outputs": [
    {
     "name": "stdout",
     "output_type": "stream",
     "text": [
      "Model: \"sequential_1\"\n",
      "_________________________________________________________________\n",
      "Layer (type)                 Output Shape              Param #   \n",
      "=================================================================\n",
      "conv2d_1 (Conv2D)            (None, 64, 64, 64)        1792      \n",
      "_________________________________________________________________\n",
      "leaky_re_lu_4 (LeakyReLU)    (None, 64, 64, 64)        0         \n",
      "_________________________________________________________________\n",
      "conv2d_2 (Conv2D)            (None, 64, 64, 128)       73856     \n",
      "_________________________________________________________________\n",
      "leaky_re_lu_5 (LeakyReLU)    (None, 64, 64, 128)       0         \n",
      "_________________________________________________________________\n",
      "conv2d_3 (Conv2D)            (None, 64, 64, 128)       147584    \n",
      "_________________________________________________________________\n",
      "leaky_re_lu_6 (LeakyReLU)    (None, 64, 64, 128)       0         \n",
      "_________________________________________________________________\n",
      "conv2d_4 (Conv2D)            (None, 64, 64, 256)       295168    \n",
      "_________________________________________________________________\n",
      "leaky_re_lu_7 (LeakyReLU)    (None, 64, 64, 256)       0         \n",
      "_________________________________________________________________\n",
      "flatten (Flatten)            (None, 1048576)           0         \n",
      "_________________________________________________________________\n",
      "dropout (Dropout)            (None, 1048576)           0         \n",
      "_________________________________________________________________\n",
      "dense_1 (Dense)              (None, 1)                 1048577   \n",
      "=================================================================\n",
      "Total params: 1,566,977\n",
      "Trainable params: 1,566,977\n",
      "Non-trainable params: 0\n",
      "_________________________________________________________________\n"
     ]
    }
   ],
   "source": [
    "def build_discriminator():\n",
    "    model = Sequential()\n",
    "    \n",
    "    # Layer 1\n",
    "    model.add(Conv2D(64, (3,3), padding='same', input_shape=img_shape))\n",
    "    model.add(LeakyReLU(alpha=0.2))\n",
    "    \n",
    "    # Layer 2\n",
    "    model.add(Conv2D(128, (3,3), padding='same', ))\n",
    "    model.add(LeakyReLU(alpha=0.2))\n",
    "    \n",
    "    # Layer 3\n",
    "    model.add(Conv2D(128, (3,3), padding='same'))\n",
    "    model.add(LeakyReLU(alpha=0.2))\n",
    "    \n",
    "    # Layer 4\n",
    "    model.add(Conv2D(256, (3,3), padding='same'))\n",
    "    model.add(LeakyReLU(alpha=0.2))\n",
    "    \n",
    "    # Layer 5\n",
    "    model.add(Flatten())\n",
    "    model.add(Dropout(0.4)) # Drop 40% of neurons\n",
    "    model.add(Dense(1, activation='sigmoid')) \n",
    "\n",
    "    model.summary()\n",
    "    return model\n",
    "\n",
    "discriminator = build_discriminator()\n",
    "discriminator.compile(loss='binary_crossentropy', optimizer=adam, metrics=['accuracy'])"
   ]
  },
  {
   "cell_type": "markdown",
   "metadata": {},
   "source": [
    "We combine the generator and discriminator into the GAN."
   ]
  },
  {
   "cell_type": "code",
   "execution_count": 10,
   "metadata": {},
   "outputs": [],
   "source": [
    "# Combine into one model\n",
    "GAN = Sequential()\n",
    "discriminator.trainable = False #discriminator weights don't train with GAN\n",
    "GAN.add(generator)\n",
    "GAN.add(discriminator)\n",
    "\n",
    "GAN.compile(loss='binary_crossentropy', optimizer=adam)"
   ]
  },
  {
   "cell_type": "markdown",
   "metadata": {},
   "source": [
    "# Save Generated Images during training"
   ]
  },
  {
   "cell_type": "code",
   "execution_count": 11,
   "metadata": {},
   "outputs": [],
   "source": [
    "import glob\n",
    "import imageio\n",
    "import PIL\n",
    "\n",
    "save_name = 0.00000000\n",
    "\n",
    "def save_imgs(epoch):\n",
    "    r, c = 4, 4\n",
    "    noise = np.random.normal(0, 1, (r * c, latent_dim))\n",
    "    gen_imgs = generator.predict(noise)\n",
    "    global save_name\n",
    "    save_name += 0.00000001\n",
    "\n",
    "    # Rescale images 0 - 1\n",
    "    gen_imgs = (gen_imgs + 1) / 2.0\n",
    "\n",
    "    fig, axs = plt.subplots(r, c)\n",
    "    cnt = 0\n",
    "    for i in range(r):\n",
    "        for j in range(c):\n",
    "            axs[i,j].imshow(gen_imgs[cnt])\n",
    "            axs[i,j].axis('off')\n",
    "            cnt += 1\n",
    "    fig.savefig(\"currentgeneration.png\")\n",
    "    fig.savefig(r\"C:\\Users\\Aaron\\cat faces\\cats\\generated_images\\%.8f.png\" % save_name)\n",
    "    plt.close()"
   ]
  },
  {
   "cell_type": "markdown",
   "metadata": {},
   "source": [
    "# Train Model"
   ]
  },
  {
   "cell_type": "code",
   "execution_count": 12,
   "metadata": {},
   "outputs": [],
   "source": [
    "from PIL import Image\n",
    "\n",
    "def train(train_data, epochs, batch_size=32, save_interval=200):\n",
    "    X_train = np.array(train_data)\n",
    "\n",
    "    bat_per_epo = int(X_train.shape[0] / batch_size)\n",
    "\n",
    "    #Create our Y for our Neural Networks\n",
    "    valid = np.ones((batch_size, 1))\n",
    "    fakes = np.zeros((batch_size, 1))\n",
    "\n",
    "    for epoch in range(epochs):\n",
    "        for j in range(bat_per_epo):\n",
    "            \n",
    "            #Get Random Batch\n",
    "            idx = np.random.randint(0, X_train.shape[0], batch_size)\n",
    "            imgs = X_train[idx]\n",
    "\n",
    "            #Generate Fake Images\n",
    "            noise = np.random.normal(0, 1, (batch_size, latent_dim))\n",
    "            gen_imgs = generator.predict(noise)\n",
    "\n",
    "            #Train discriminator\n",
    "            d_loss_real = discriminator.train_on_batch(imgs, valid)\n",
    "            d_loss_fake = discriminator.train_on_batch(gen_imgs, fakes)\n",
    "            d_loss = 0.5 * np.add(d_loss_real, d_loss_fake)\n",
    "\n",
    "            noise = np.random.normal(0, 1, (batch_size, latent_dim))\n",
    "      \n",
    "            #inverse y label\n",
    "            g_loss = GAN.train_on_batch(noise, valid)\n",
    "\n",
    "            print(\"******* %d %d [D loss: %f, acc: %.2f%%] [G loss: %f]\" % (epoch,j, d_loss[0], 100* d_loss[1], g_loss))\n",
    "\n",
    "            # if(epoch % save_interval) == 0:\n",
    "        save_imgs(epoch)\n",
    "\n",
    "\n"
   ]
  },
  {
   "cell_type": "code",
   "execution_count": 13,
   "metadata": {},
   "outputs": [],
   "source": [
    "#Training Model \n",
    "#train(train_data,5, batch_size=150, save_interval=1)"
   ]
  },
  {
   "cell_type": "markdown",
   "metadata": {},
   "source": [
    "# Save Model Weights and Reload"
   ]
  },
  {
   "cell_type": "markdown",
   "metadata": {},
   "source": [
    "The best part about GANs is the amount of time it takes to train these models. Due to the large number of model parameters the model experiences long model train times. Ensuring one's ability to save and reload a model for training later is important to get any worthwhile results. The generated image below is the result of 10hrs of training."
   ]
  },
  {
   "cell_type": "code",
   "execution_count": 14,
   "metadata": {},
   "outputs": [],
   "source": [
    "# Save model weights for training later\n",
    "#generator.save_weights(r\"C:\\Users\\Aaron\\cat faces\\cats\\models\\generator10hours.h5\")"
   ]
  },
  {
   "cell_type": "code",
   "execution_count": 15,
   "metadata": {},
   "outputs": [
    {
     "name": "stdout",
     "output_type": "stream",
     "text": [
      "Model: \"sequential_3\"\n",
      "_________________________________________________________________\n",
      "Layer (type)                 Output Shape              Param #   \n",
      "=================================================================\n",
      "dense_2 (Dense)              (None, 16384)             1654784   \n",
      "_________________________________________________________________\n",
      "leaky_re_lu_8 (LeakyReLU)    (None, 16384)             0         \n",
      "_________________________________________________________________\n",
      "reshape_1 (Reshape)          (None, 8, 8, 256)         0         \n",
      "_________________________________________________________________\n",
      "conv2d_transpose_3 (Conv2DTr (None, 16, 16, 128)       524416    \n",
      "_________________________________________________________________\n",
      "leaky_re_lu_9 (LeakyReLU)    (None, 16, 16, 128)       0         \n",
      "_________________________________________________________________\n",
      "conv2d_transpose_4 (Conv2DTr (None, 32, 32, 128)       262272    \n",
      "_________________________________________________________________\n",
      "leaky_re_lu_10 (LeakyReLU)   (None, 32, 32, 128)       0         \n",
      "_________________________________________________________________\n",
      "conv2d_transpose_5 (Conv2DTr (None, 64, 64, 128)       262272    \n",
      "_________________________________________________________________\n",
      "leaky_re_lu_11 (LeakyReLU)   (None, 64, 64, 128)       0         \n",
      "_________________________________________________________________\n",
      "conv2d_5 (Conv2D)            (None, 64, 64, 3)         3459      \n",
      "=================================================================\n",
      "Total params: 2,707,203\n",
      "Trainable params: 2,707,203\n",
      "Non-trainable params: 0\n",
      "_________________________________________________________________\n"
     ]
    }
   ],
   "source": [
    "# Rebuild generator structure\n",
    "generator = build_generator()"
   ]
  },
  {
   "cell_type": "code",
   "execution_count": 16,
   "metadata": {},
   "outputs": [],
   "source": [
    "# Load Generator's weights to the Generator\n",
    "generator.load_weights(r\"C:\\Users\\Aaron\\cat faces\\cats\\models\\generator10hours.h5\")"
   ]
  },
  {
   "cell_type": "code",
   "execution_count": 17,
   "metadata": {},
   "outputs": [
    {
     "data": {
      "text/plain": [
       "<matplotlib.image.AxesImage at 0x2a2f351c940>"
      ]
     },
     "execution_count": 17,
     "metadata": {},
     "output_type": "execute_result"
    },
    {
     "data": {
      "image/png": "[encoded data removed]",
      "text/plain": [
       "<Figure size 432x288 with 1 Axes>"
      ]
     },
     "metadata": {
      "needs_background": "light"
     },
     "output_type": "display_data"
    }
   ],
   "source": [
    "# Generate Image from Noise (Take 1)\n",
    "noise = np.random.normal(0, 1, (16, latent_dim))\n",
    "gen_imgs = generator.predict(noise)\n",
    "gen_imgs = (gen_imgs + 1) / 2.0\n",
    "plt.imshow(gen_imgs[2])"
   ]
  }
 ],
 "metadata": {
  "kernelspec": {
   "display_name": "Python 3",
   "language": "python",
   "name": "python3"
  },
  "language_info": {
   "codemirror_mode": {
    "name": "ipython",
    "version": 3
   },
   "file_extension": ".py",
   "mimetype": "text/x-python",
   "name": "python",
   "nbconvert_exporter": "python",
   "pygments_lexer": "ipython3",
   "version": "3.8.5"
  }
 },
 "nbformat": 4,
 "nbformat_minor": 4
}
